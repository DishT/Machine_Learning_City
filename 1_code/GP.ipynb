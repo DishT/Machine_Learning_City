{
 "cells": [
  {
   "cell_type": "code",
   "execution_count": 2,
   "metadata": {},
   "outputs": [],
   "source": [
    "import pandas as pd\n",
    "import numpy as np\n",
    "import matplotlib.pylab as plt\n",
    "from sklearn.model_selection import train_test_split\n",
    "from sklearn.gaussian_process import GaussianProcessRegressor,GaussianProcessClassifier\n",
    "from sklearn.gaussian_process.kernels import RBF, ConstantKernel,WhiteKernel,RationalQuadratic, Matern, DotProduct"
   ]
  },
  {
   "cell_type": "code",
   "execution_count": 4,
   "metadata": {},
   "outputs": [],
   "source": [
    "ds_demo = pd.read_csv(\"income_dataset/twitter_income.csv\").drop(['Unnamed: 0'],axis=1)\n",
    "y = pd.cut(ds_demo.loc[:,\"mean_income\"], bins = 10, labels = list(range(0,10)))\n",
    "# X = ds_demo.loc[:,['Topic_163','Topic_139','Topic_124','Topic_28','listed','enlish_tweets','Topic_95','Topic_162','foll_friend_ratio',\n",
    "#  'followers','Topic_32','Topic_173','Topic_56','optimism:optimist','Topic_36','urls','friends','Topic_150','religion:muslim','Topic_157']]\n",
    "# X = ds_demo.loc[:,['Topic_95','Topic_116','Topic_158',\n",
    "#                    'Topic_163','Topic_139','Topic_97','Topic_124',\n",
    "#                    'Topic_38','Topic_37','Topic_19','Topic_64','Topic_11',\n",
    "#                    'Topic_120','Topic_66','Topic_3','Topic_40','Topic_105','Topic_153','Topic_170','Topic_99']]\n",
    "\n",
    "X = ds_demo.loc[:,['Topic_173',\n",
    " 'Topic_116',\n",
    " 'Topic_124',\n",
    " 'Topic_107',\n",
    " 'Topic_139',\n",
    " 'Topic_163',\n",
    " 'age',\n",
    " 'Topic_11',\n",
    " 'Topic_105',\n",
    " 'Topic_29',\n",
    " 'Topic_180',\n",
    " 'Topic_196',\n",
    " 'Topic_66',\n",
    " 'Topic_49',\n",
    " 'foll_friend_ratio',\n",
    " 'Topic_76',\n",
    " 'listed',\n",
    " 'Topic_160',\n",
    " 'gender:female_gt_0_5',\n",
    " 'Topic_95']]\n",
    "\n",
    "X_train,X_test,y_train,y_test=train_test_split(X, y, test_size=0.2, random_state=999)"
   ]
  },
  {
   "cell_type": "code",
   "execution_count": 5,
   "metadata": {},
   "outputs": [
    {
     "data": {
      "text/plain": [
       "<matplotlib.axes._subplots.AxesSubplot at 0x10258f2b0>"
      ]
     },
     "execution_count": 5,
     "metadata": {},
     "output_type": "execute_result"
    },
    {
     "data": {
      "image/png": "[encoded data removed]",
      "text/plain": [
       "<matplotlib.figure.Figure at 0x1a099c2c50>"
      ]
     },
     "metadata": {},
     "output_type": "display_data"
    }
   ],
   "source": [
    "y.hist()"
   ]
  },
  {
   "cell_type": "code",
   "execution_count": null,
   "metadata": {
    "scrolled": true
   },
   "outputs": [],
   "source": [
    "kernel = 1.* RBF(length_scale=1., length_scale_bounds=(1e-5, 1e5)) \\\n",
    "#     + WhiteKernel(noise_level=1., noise_level_bounds=(1e-5, 1e5)) \\\n",
    "#     + RationalQuadratic(length_scale=1.) \\\n",
    "    \n",
    "# gp = GaussianProcessRegressor(kernel=kernel, random_state=999)\n",
    "gp = GaussianProcessClassifier(kernel=kernel, random_state=999)\n",
    "\n",
    "\n",
    "gp.fit(X_train, y_train)\n",
    "\n",
    "y_pred, sigma = gp.predict(X_test, return_std=True)\n",
    "\n",
    "print(gp.log_marginal_likelihood_value_)\n",
    "print(gp.kernel_)"
   ]
  },
  {
   "cell_type": "code",
   "execution_count": 80,
   "metadata": {},
   "outputs": [
    {
     "data": {
      "text/plain": [
       "[<matplotlib.lines.Line2D at 0x1f803d35fd0>]"
      ]
     },
     "execution_count": 80,
     "metadata": {},
     "output_type": "execute_result"
    },
    {
     "data": {
      "image/png": "[encoded data removed]",
      "text/plain": [
       "<matplotlib.figure.Figure at 0x1f803c9d320>"
      ]
     },
     "metadata": {},
     "output_type": "display_data"
    }
   ],
   "source": [
    "plt.plot(y_pred, y_test, '.')"
   ]
  },
  {
   "cell_type": "code",
   "execution_count": 81,
   "metadata": {},
   "outputs": [
    {
     "data": {
      "text/plain": [
       "array([10.07214014,  9.92953187, 10.54556282, ...,  6.11899567,\n",
       "       10.25565727,  7.63090396])"
      ]
     },
     "execution_count": 81,
     "metadata": {},
     "output_type": "execute_result"
    }
   ],
   "source": [
    "y_pred"
   ]
  },
  {
   "cell_type": "code",
   "execution_count": 86,
   "metadata": {},
   "outputs": [
    {
     "data": {
      "text/plain": [
       "0.026772504513657983"
      ]
     },
     "execution_count": 86,
     "metadata": {},
     "output_type": "execute_result"
    }
   ],
   "source": [
    "gp.score(X_test, y_test)"
   ]
  },
  {
   "cell_type": "code",
   "execution_count": null,
   "metadata": {},
   "outputs": [],
   "source": [
    "scores = cross_val_score(dt, X, y, cv = 10)"
   ]
  },
  {
   "cell_type": "code",
   "execution_count": null,
   "metadata": {},
   "outputs": [],
   "source": [
    "np.mean(scores)"
   ]
  }
 ],
 "metadata": {
  "kernelspec": {
   "display_name": "Python 3",
   "language": "python",
   "name": "python3"
  },
  "language_info": {
   "codemirror_mode": {
    "name": "ipython",
    "version": 3
   },
   "file_extension": ".py",
   "mimetype": "text/x-python",
   "name": "python",
   "nbconvert_exporter": "python",
   "pygments_lexer": "ipython3",
   "version": "3.6.3"
  }
 },
 "nbformat": 4,
 "nbformat_minor": 2
}
