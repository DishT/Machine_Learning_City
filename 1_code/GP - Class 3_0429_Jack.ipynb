{
 "cells": [
  {
   "cell_type": "markdown",
   "metadata": {},
   "source": [
    "## GP model for 3 classes"
   ]
  },
  {
   "cell_type": "code",
   "execution_count": 30,
   "metadata": {},
   "outputs": [],
   "source": [
    "import pandas as pd\n",
    "import numpy as np\n",
    "import matplotlib.pylab as plt\n",
    "from sklearn.model_selection import train_test_split\n",
    "from sklearn.model_selection import cross_val_score\n",
    "from sklearn.gaussian_process import GaussianProcessRegressor,GaussianProcessClassifier\n",
    "from sklearn.gaussian_process.kernels import RBF, ConstantKernel,WhiteKernel,RationalQuadratic, Matern, DotProduct\n",
    "%matplotlib inline "
   ]
  },
  {
   "cell_type": "code",
   "execution_count": 7,
   "metadata": {},
   "outputs": [
    {
     "data": {
      "text/html": [
       "<div>\n",
       "<table border=\"1\" class=\"dataframe\">\n",
       "  <thead>\n",
       "    <tr style=\"text-align: right;\">\n",
       "      <th></th>\n",
       "      <th>user_id</th>\n",
       "      <th>age</th>\n",
       "      <th>gender:female_gt_0_5</th>\n",
       "      <th>anxious:agree</th>\n",
       "      <th>anxious:strongly_agree</th>\n",
       "      <th>anxious:disagree</th>\n",
       "      <th>anxious:strongly_disagree</th>\n",
       "      <th>anxious:neither</th>\n",
       "      <th>children:no</th>\n",
       "      <th>children:yes</th>\n",
       "      <th>...</th>\n",
       "      <th>Topic_191</th>\n",
       "      <th>Topic_192</th>\n",
       "      <th>Topic_193</th>\n",
       "      <th>Topic_194</th>\n",
       "      <th>Topic_195</th>\n",
       "      <th>Topic_196</th>\n",
       "      <th>Topic_197</th>\n",
       "      <th>Topic_198</th>\n",
       "      <th>Topic_199</th>\n",
       "      <th>Topic_200</th>\n",
       "    </tr>\n",
       "  </thead>\n",
       "  <tbody>\n",
       "    <tr>\n",
       "      <th>0</th>\n",
       "      <td>1103</td>\n",
       "      <td>30.700773</td>\n",
       "      <td>-0.050586</td>\n",
       "      <td>0.113558</td>\n",
       "      <td>0.034757</td>\n",
       "      <td>0.329889</td>\n",
       "      <td>0.221230</td>\n",
       "      <td>0.300567</td>\n",
       "      <td>0.682671</td>\n",
       "      <td>0.317329</td>\n",
       "      <td>...</td>\n",
       "      <td>0.143927</td>\n",
       "      <td>0.001070</td>\n",
       "      <td>0.001070</td>\n",
       "      <td>0.006956</td>\n",
       "      <td>0.042804</td>\n",
       "      <td>0.036918</td>\n",
       "      <td>0.019797</td>\n",
       "      <td>0.000000</td>\n",
       "      <td>0.093098</td>\n",
       "      <td>0.010166</td>\n",
       "    </tr>\n",
       "    <tr>\n",
       "      <th>1</th>\n",
       "      <td>8273</td>\n",
       "      <td>29.817867</td>\n",
       "      <td>0.376868</td>\n",
       "      <td>0.079798</td>\n",
       "      <td>0.030549</td>\n",
       "      <td>0.360824</td>\n",
       "      <td>0.285467</td>\n",
       "      <td>0.243363</td>\n",
       "      <td>0.693130</td>\n",
       "      <td>0.306870</td>\n",
       "      <td>...</td>\n",
       "      <td>0.164856</td>\n",
       "      <td>0.000000</td>\n",
       "      <td>0.001863</td>\n",
       "      <td>0.004967</td>\n",
       "      <td>0.053710</td>\n",
       "      <td>0.009624</td>\n",
       "      <td>0.005278</td>\n",
       "      <td>0.000621</td>\n",
       "      <td>0.066749</td>\n",
       "      <td>0.007762</td>\n",
       "    </tr>\n",
       "    <tr>\n",
       "      <th>2</th>\n",
       "      <td>9269</td>\n",
       "      <td>31.260406</td>\n",
       "      <td>0.204542</td>\n",
       "      <td>0.079508</td>\n",
       "      <td>0.026907</td>\n",
       "      <td>0.343969</td>\n",
       "      <td>0.273264</td>\n",
       "      <td>0.276351</td>\n",
       "      <td>0.835034</td>\n",
       "      <td>0.164966</td>\n",
       "      <td>...</td>\n",
       "      <td>0.136182</td>\n",
       "      <td>0.000000</td>\n",
       "      <td>0.001230</td>\n",
       "      <td>0.005841</td>\n",
       "      <td>0.014448</td>\n",
       "      <td>0.071011</td>\n",
       "      <td>0.004919</td>\n",
       "      <td>0.010452</td>\n",
       "      <td>0.043345</td>\n",
       "      <td>0.008300</td>\n",
       "    </tr>\n",
       "    <tr>\n",
       "      <th>3</th>\n",
       "      <td>10571</td>\n",
       "      <td>33.120257</td>\n",
       "      <td>0.164126</td>\n",
       "      <td>0.093635</td>\n",
       "      <td>0.037560</td>\n",
       "      <td>0.410242</td>\n",
       "      <td>0.185529</td>\n",
       "      <td>0.273034</td>\n",
       "      <td>0.837154</td>\n",
       "      <td>0.162846</td>\n",
       "      <td>...</td>\n",
       "      <td>0.128398</td>\n",
       "      <td>0.000000</td>\n",
       "      <td>0.002313</td>\n",
       "      <td>0.018508</td>\n",
       "      <td>0.020821</td>\n",
       "      <td>0.024870</td>\n",
       "      <td>0.010989</td>\n",
       "      <td>0.002313</td>\n",
       "      <td>0.074610</td>\n",
       "      <td>0.015616</td>\n",
       "    </tr>\n",
       "    <tr>\n",
       "      <th>4</th>\n",
       "      <td>11758</td>\n",
       "      <td>26.284088</td>\n",
       "      <td>-0.066739</td>\n",
       "      <td>0.103949</td>\n",
       "      <td>0.038573</td>\n",
       "      <td>0.239573</td>\n",
       "      <td>0.237358</td>\n",
       "      <td>0.380548</td>\n",
       "      <td>0.741889</td>\n",
       "      <td>0.258111</td>\n",
       "      <td>...</td>\n",
       "      <td>0.085206</td>\n",
       "      <td>0.000468</td>\n",
       "      <td>0.001404</td>\n",
       "      <td>0.004682</td>\n",
       "      <td>0.010768</td>\n",
       "      <td>0.020599</td>\n",
       "      <td>0.004682</td>\n",
       "      <td>0.001404</td>\n",
       "      <td>0.042603</td>\n",
       "      <td>0.015918</td>\n",
       "    </tr>\n",
       "  </tbody>\n",
       "</table>\n",
       "<p>5 rows × 285 columns</p>\n",
       "</div>"
      ],
      "text/plain": [
       "   user_id        age  gender:female_gt_0_5  anxious:agree  \\\n",
       "0     1103  30.700773             -0.050586       0.113558   \n",
       "1     8273  29.817867              0.376868       0.079798   \n",
       "2     9269  31.260406              0.204542       0.079508   \n",
       "3    10571  33.120257              0.164126       0.093635   \n",
       "4    11758  26.284088             -0.066739       0.103949   \n",
       "\n",
       "   anxious:strongly_agree  anxious:disagree  anxious:strongly_disagree  \\\n",
       "0                0.034757          0.329889                   0.221230   \n",
       "1                0.030549          0.360824                   0.285467   \n",
       "2                0.026907          0.343969                   0.273264   \n",
       "3                0.037560          0.410242                   0.185529   \n",
       "4                0.038573          0.239573                   0.237358   \n",
       "\n",
       "   anxious:neither  children:no  children:yes    ...      Topic_191  \\\n",
       "0         0.300567     0.682671      0.317329    ...       0.143927   \n",
       "1         0.243363     0.693130      0.306870    ...       0.164856   \n",
       "2         0.276351     0.835034      0.164966    ...       0.136182   \n",
       "3         0.273034     0.837154      0.162846    ...       0.128398   \n",
       "4         0.380548     0.741889      0.258111    ...       0.085206   \n",
       "\n",
       "   Topic_192  Topic_193  Topic_194  Topic_195  Topic_196  Topic_197  \\\n",
       "0   0.001070   0.001070   0.006956   0.042804   0.036918   0.019797   \n",
       "1   0.000000   0.001863   0.004967   0.053710   0.009624   0.005278   \n",
       "2   0.000000   0.001230   0.005841   0.014448   0.071011   0.004919   \n",
       "3   0.000000   0.002313   0.018508   0.020821   0.024870   0.010989   \n",
       "4   0.000468   0.001404   0.004682   0.010768   0.020599   0.004682   \n",
       "\n",
       "   Topic_198  Topic_199  Topic_200  \n",
       "0   0.000000   0.093098   0.010166  \n",
       "1   0.000621   0.066749   0.007762  \n",
       "2   0.010452   0.043345   0.008300  \n",
       "3   0.002313   0.074610   0.015616  \n",
       "4   0.001404   0.042603   0.015918  \n",
       "\n",
       "[5 rows x 285 columns]"
      ]
     },
     "execution_count": 7,
     "metadata": {},
     "output_type": "execute_result"
    }
   ],
   "source": [
    "ds_demo = pd.read_csv(\"twitter_income.csv\")\n",
    "ds_demo.head()"
   ]
  },
  {
   "cell_type": "code",
   "execution_count": 11,
   "metadata": {},
   "outputs": [],
   "source": [
    "ds_demo = pd.read_csv(\"twitter_income.csv\")\n",
    "y = pd.cut(ds_demo.loc[:,\"mean_income\"], bins = 3, labels = list(range(0,3)))\n",
    "# X = ds_demo.loc[:,['Topic_163','Topic_139','Topic_124','Topic_28','listed','enlish_tweets','Topic_95','Topic_162','foll_friend_ratio',\n",
    "#  'followers','Topic_32','Topic_173','Topic_56','optimism:optimist','Topic_36','urls','friends','Topic_150','religion:muslim','Topic_157']]\n",
    "# X = ds_demo.loc[:,['Topic_95','Topic_116','Topic_158',\n",
    "#                    'Topic_163','Topic_139','Topic_97','Topic_124',\n",
    "#                    'Topic_38','Topic_37','Topic_19','Topic_64','Topic_11',\n",
    "#                    'Topic_120','Topic_66','Topic_3','Topic_40','Topic_105','Topic_153','Topic_170','Topic_99']]\n",
    "\n",
    "X = ds_demo.loc[:,['Topic_173',\n",
    " 'Topic_116',\n",
    " 'Topic_124',\n",
    " 'Topic_107',\n",
    " 'Topic_139',\n",
    " 'Topic_163',\n",
    " 'age',\n",
    " 'Topic_11',\n",
    " 'Topic_105',\n",
    " 'Topic_29',\n",
    " 'Topic_180',\n",
    " 'Topic_196',\n",
    " 'Topic_66',\n",
    " 'Topic_49',\n",
    " 'foll_friend_ratio',\n",
    " 'Topic_76',\n",
    " 'listed',\n",
    " 'Topic_160',\n",
    " 'gender:female_gt_0_5',\n",
    " 'Topic_95']]\n",
    "\n",
    "X_train,X_test,y_train,y_test=train_test_split(X, y, test_size=0.2, random_state=999)"
   ]
  },
  {
   "cell_type": "code",
   "execution_count": 12,
   "metadata": {},
   "outputs": [
    {
     "data": {
      "text/plain": [
       "<matplotlib.axes._subplots.AxesSubplot at 0x11045dc18>"
      ]
     },
     "execution_count": 12,
     "metadata": {},
     "output_type": "execute_result"
    },
    {
     "data": {
      "image/png": "[encoded data removed]",
      "text/plain": [
       "<matplotlib.figure.Figure at 0x110460e48>"
      ]
     },
     "metadata": {},
     "output_type": "display_data"
    }
   ],
   "source": [
    "y.hist()"
   ]
  },
  {
   "cell_type": "code",
   "execution_count": 14,
   "metadata": {},
   "outputs": [],
   "source": [
    "gp.predict?"
   ]
  },
  {
   "cell_type": "code",
   "execution_count": null,
   "metadata": {},
   "outputs": [],
   "source": [
    "kernel = 1.* RBF(length_scale=1., length_scale_bounds=(1e-5, 1e5)) \\\n",
    "#     + WhiteKernel(noise_level=1., noise_level_bounds=(1e-5, 1e5)) \\\n",
    "#     + RationalQuadratic(length_scale=1.) \\\n",
    "    \n",
    "# gp = GaussianProcessRegressor(kernel=kernel, random_state=999)\n",
    "gp = GaussianProcessClassifier(kernel=kernel, random_state=999)\n",
    "\n",
    "\n",
    "gp.fit(X_train, y_train)"
   ]
  },
  {
   "cell_type": "code",
   "execution_count": null,
   "metadata": {},
   "outputs": [],
   "source": [
    "kernel = 1.* RBF(length_scale=1., length_scale_bounds=(1e-5, 1e5)) \\\n",
    "#     + WhiteKernel(noise_level=1., noise_level_bounds=(1e-5, 1e5)) \\\n",
    "#     + RationalQuadratic(length_scale=1.) \\\n",
    "    \n",
    "# gp = GaussianProcessRegressor(kernel=kernel, random_state=999)\n",
    "gp = GaussianProcessClassifier(kernel=kernel, random_state=999)\n",
    "\n",
    "\n",
    "gp.fit(X_train, y_train)"
   ]
  },
  {
   "cell_type": "code",
   "execution_count": 20,
   "metadata": {
    "scrolled": true
   },
   "outputs": [
    {
     "name": "stdout",
     "output_type": "stream",
     "text": [
      "-1121.0841931\n",
      "CompoundKernel(11.5, 6.04, 1.53, 11.5, 11.5, 5.47)\n"
     ]
    }
   ],
   "source": [
    "y_pred = gp.predict(X_test)\n",
    "\n",
    "print(gp.log_marginal_likelihood_value_)\n",
    "print(gp.kernel_)"
   ]
  },
  {
   "cell_type": "code",
   "execution_count": 21,
   "metadata": {},
   "outputs": [
    {
     "ename": "IndexError",
     "evalue": "tuple index out of range",
     "output_type": "error",
     "traceback": [
      "\u001b[0;31m---------------------------------------------------------------------------\u001b[0m",
      "\u001b[0;31mIndexError\u001b[0m                                Traceback (most recent call last)",
      "\u001b[0;32m<ipython-input-21-495d75c9b162>\u001b[0m in \u001b[0;36m<module>\u001b[0;34m()\u001b[0m\n\u001b[0;32m----> 1\u001b[0;31m \u001b[0mplt\u001b[0m\u001b[0;34m.\u001b[0m\u001b[0mplot\u001b[0m\u001b[0;34m(\u001b[0m\u001b[0my_pred\u001b[0m\u001b[0;34m,\u001b[0m \u001b[0my_test\u001b[0m\u001b[0;34m,\u001b[0m \u001b[0;34m'.'\u001b[0m\u001b[0;34m)\u001b[0m\u001b[0;34m\u001b[0m\u001b[0m\n\u001b[0m",
      "\u001b[0;32m/Library/Frameworks/Python.framework/Versions/3.5/lib/python3.5/site-packages/matplotlib/pyplot.py\u001b[0m in \u001b[0;36mplot\u001b[0;34m(*args, **kwargs)\u001b[0m\n\u001b[1;32m   3238\u001b[0m                       mplDeprecation)\n\u001b[1;32m   3239\u001b[0m     \u001b[0;32mtry\u001b[0m\u001b[0;34m:\u001b[0m\u001b[0;34m\u001b[0m\u001b[0m\n\u001b[0;32m-> 3240\u001b[0;31m         \u001b[0mret\u001b[0m \u001b[0;34m=\u001b[0m \u001b[0max\u001b[0m\u001b[0;34m.\u001b[0m\u001b[0mplot\u001b[0m\u001b[0;34m(\u001b[0m\u001b[0;34m*\u001b[0m\u001b[0margs\u001b[0m\u001b[0;34m,\u001b[0m \u001b[0;34m**\u001b[0m\u001b[0mkwargs\u001b[0m\u001b[0;34m)\u001b[0m\u001b[0;34m\u001b[0m\u001b[0m\n\u001b[0m\u001b[1;32m   3241\u001b[0m     \u001b[0;32mfinally\u001b[0m\u001b[0;34m:\u001b[0m\u001b[0;34m\u001b[0m\u001b[0m\n\u001b[1;32m   3242\u001b[0m         \u001b[0max\u001b[0m\u001b[0;34m.\u001b[0m\u001b[0m_hold\u001b[0m \u001b[0;34m=\u001b[0m \u001b[0mwashold\u001b[0m\u001b[0;34m\u001b[0m\u001b[0m\n",
      "\u001b[0;32m/Library/Frameworks/Python.framework/Versions/3.5/lib/python3.5/site-packages/matplotlib/__init__.py\u001b[0m in \u001b[0;36minner\u001b[0;34m(ax, *args, **kwargs)\u001b[0m\n\u001b[1;32m   1708\u001b[0m                     warnings.warn(msg % (label_namer, func.__name__),\n\u001b[1;32m   1709\u001b[0m                                   RuntimeWarning, stacklevel=2)\n\u001b[0;32m-> 1710\u001b[0;31m             \u001b[0;32mreturn\u001b[0m \u001b[0mfunc\u001b[0m\u001b[0;34m(\u001b[0m\u001b[0max\u001b[0m\u001b[0;34m,\u001b[0m \u001b[0;34m*\u001b[0m\u001b[0margs\u001b[0m\u001b[0;34m,\u001b[0m \u001b[0;34m**\u001b[0m\u001b[0mkwargs\u001b[0m\u001b[0;34m)\u001b[0m\u001b[0;34m\u001b[0m\u001b[0m\n\u001b[0m\u001b[1;32m   1711\u001b[0m         \u001b[0mpre_doc\u001b[0m \u001b[0;34m=\u001b[0m \u001b[0minner\u001b[0m\u001b[0;34m.\u001b[0m\u001b[0m__doc__\u001b[0m\u001b[0;34m\u001b[0m\u001b[0m\n\u001b[1;32m   1712\u001b[0m         \u001b[0;32mif\u001b[0m \u001b[0mpre_doc\u001b[0m \u001b[0;32mis\u001b[0m \u001b[0;32mNone\u001b[0m\u001b[0;34m:\u001b[0m\u001b[0;34m\u001b[0m\u001b[0m\n",
      "\u001b[0;32m/Library/Frameworks/Python.framework/Versions/3.5/lib/python3.5/site-packages/matplotlib/axes/_axes.py\u001b[0m in \u001b[0;36mplot\u001b[0;34m(self, *args, **kwargs)\u001b[0m\n\u001b[1;32m   1435\u001b[0m         \u001b[0mkwargs\u001b[0m \u001b[0;34m=\u001b[0m \u001b[0mcbook\u001b[0m\u001b[0;34m.\u001b[0m\u001b[0mnormalize_kwargs\u001b[0m\u001b[0;34m(\u001b[0m\u001b[0mkwargs\u001b[0m\u001b[0;34m,\u001b[0m \u001b[0m_alias_map\u001b[0m\u001b[0;34m)\u001b[0m\u001b[0;34m\u001b[0m\u001b[0m\n\u001b[1;32m   1436\u001b[0m \u001b[0;34m\u001b[0m\u001b[0m\n\u001b[0;32m-> 1437\u001b[0;31m         \u001b[0;32mfor\u001b[0m \u001b[0mline\u001b[0m \u001b[0;32min\u001b[0m \u001b[0mself\u001b[0m\u001b[0;34m.\u001b[0m\u001b[0m_get_lines\u001b[0m\u001b[0;34m(\u001b[0m\u001b[0;34m*\u001b[0m\u001b[0margs\u001b[0m\u001b[0;34m,\u001b[0m \u001b[0;34m**\u001b[0m\u001b[0mkwargs\u001b[0m\u001b[0;34m)\u001b[0m\u001b[0;34m:\u001b[0m\u001b[0;34m\u001b[0m\u001b[0m\n\u001b[0m\u001b[1;32m   1438\u001b[0m             \u001b[0mself\u001b[0m\u001b[0;34m.\u001b[0m\u001b[0madd_line\u001b[0m\u001b[0;34m(\u001b[0m\u001b[0mline\u001b[0m\u001b[0;34m)\u001b[0m\u001b[0;34m\u001b[0m\u001b[0m\n\u001b[1;32m   1439\u001b[0m             \u001b[0mlines\u001b[0m\u001b[0;34m.\u001b[0m\u001b[0mappend\u001b[0m\u001b[0;34m(\u001b[0m\u001b[0mline\u001b[0m\u001b[0;34m)\u001b[0m\u001b[0;34m\u001b[0m\u001b[0m\n",
      "\u001b[0;32m/Library/Frameworks/Python.framework/Versions/3.5/lib/python3.5/site-packages/matplotlib/axes/_base.py\u001b[0m in \u001b[0;36m_grab_next_args\u001b[0;34m(self, *args, **kwargs)\u001b[0m\n\u001b[1;32m    402\u001b[0m                 \u001b[0mthis\u001b[0m \u001b[0;34m+=\u001b[0m \u001b[0margs\u001b[0m\u001b[0;34m[\u001b[0m\u001b[0;36m0\u001b[0m\u001b[0;34m]\u001b[0m\u001b[0;34m,\u001b[0m\u001b[0;34m\u001b[0m\u001b[0m\n\u001b[1;32m    403\u001b[0m                 \u001b[0margs\u001b[0m \u001b[0;34m=\u001b[0m \u001b[0margs\u001b[0m\u001b[0;34m[\u001b[0m\u001b[0;36m1\u001b[0m\u001b[0;34m:\u001b[0m\u001b[0;34m]\u001b[0m\u001b[0;34m\u001b[0m\u001b[0m\n\u001b[0;32m--> 404\u001b[0;31m             \u001b[0;32mfor\u001b[0m \u001b[0mseg\u001b[0m \u001b[0;32min\u001b[0m \u001b[0mself\u001b[0m\u001b[0;34m.\u001b[0m\u001b[0m_plot_args\u001b[0m\u001b[0;34m(\u001b[0m\u001b[0mthis\u001b[0m\u001b[0;34m,\u001b[0m \u001b[0mkwargs\u001b[0m\u001b[0;34m)\u001b[0m\u001b[0;34m:\u001b[0m\u001b[0;34m\u001b[0m\u001b[0m\n\u001b[0m\u001b[1;32m    405\u001b[0m                 \u001b[0;32myield\u001b[0m \u001b[0mseg\u001b[0m\u001b[0;34m\u001b[0m\u001b[0m\n\u001b[1;32m    406\u001b[0m \u001b[0;34m\u001b[0m\u001b[0m\n",
      "\u001b[0;32m/Library/Frameworks/Python.framework/Versions/3.5/lib/python3.5/site-packages/matplotlib/axes/_base.py\u001b[0m in \u001b[0;36m_plot_args\u001b[0;34m(self, tup, kwargs)\u001b[0m\n\u001b[1;32m    390\u001b[0m             \u001b[0mfunc\u001b[0m \u001b[0;34m=\u001b[0m \u001b[0mself\u001b[0m\u001b[0;34m.\u001b[0m\u001b[0m_makefill\u001b[0m\u001b[0;34m\u001b[0m\u001b[0m\n\u001b[1;32m    391\u001b[0m \u001b[0;34m\u001b[0m\u001b[0m\n\u001b[0;32m--> 392\u001b[0;31m         \u001b[0mncx\u001b[0m\u001b[0;34m,\u001b[0m \u001b[0mncy\u001b[0m \u001b[0;34m=\u001b[0m \u001b[0mx\u001b[0m\u001b[0;34m.\u001b[0m\u001b[0mshape\u001b[0m\u001b[0;34m[\u001b[0m\u001b[0;36m1\u001b[0m\u001b[0;34m]\u001b[0m\u001b[0;34m,\u001b[0m \u001b[0my\u001b[0m\u001b[0;34m.\u001b[0m\u001b[0mshape\u001b[0m\u001b[0;34m[\u001b[0m\u001b[0;36m1\u001b[0m\u001b[0;34m]\u001b[0m\u001b[0;34m\u001b[0m\u001b[0m\n\u001b[0m\u001b[1;32m    393\u001b[0m         \u001b[0;32mfor\u001b[0m \u001b[0mj\u001b[0m \u001b[0;32min\u001b[0m \u001b[0mxrange\u001b[0m\u001b[0;34m(\u001b[0m\u001b[0mmax\u001b[0m\u001b[0;34m(\u001b[0m\u001b[0mncx\u001b[0m\u001b[0;34m,\u001b[0m \u001b[0mncy\u001b[0m\u001b[0;34m)\u001b[0m\u001b[0;34m)\u001b[0m\u001b[0;34m:\u001b[0m\u001b[0;34m\u001b[0m\u001b[0m\n\u001b[1;32m    394\u001b[0m             \u001b[0mseg\u001b[0m \u001b[0;34m=\u001b[0m \u001b[0mfunc\u001b[0m\u001b[0;34m(\u001b[0m\u001b[0mx\u001b[0m\u001b[0;34m[\u001b[0m\u001b[0;34m:\u001b[0m\u001b[0;34m,\u001b[0m \u001b[0mj\u001b[0m \u001b[0;34m%\u001b[0m \u001b[0mncx\u001b[0m\u001b[0;34m]\u001b[0m\u001b[0;34m,\u001b[0m \u001b[0my\u001b[0m\u001b[0;34m[\u001b[0m\u001b[0;34m:\u001b[0m\u001b[0;34m,\u001b[0m \u001b[0mj\u001b[0m \u001b[0;34m%\u001b[0m \u001b[0mncy\u001b[0m\u001b[0;34m]\u001b[0m\u001b[0;34m,\u001b[0m \u001b[0mkw\u001b[0m\u001b[0;34m,\u001b[0m \u001b[0mkwargs\u001b[0m\u001b[0;34m)\u001b[0m\u001b[0;34m\u001b[0m\u001b[0m\n",
      "\u001b[0;31mIndexError\u001b[0m: tuple index out of range"
     ]
    },
    {
     "data": {
      "image/png": "[encoded data removed]",
      "text/plain": [
       "<matplotlib.figure.Figure at 0x105b80940>"
      ]
     },
     "metadata": {},
     "output_type": "display_data"
    }
   ],
   "source": [
    "plt.plot(y_pred, y_test, '.')"
   ]
  },
  {
   "cell_type": "code",
   "execution_count": 22,
   "metadata": {},
   "outputs": [
    {
     "data": {
      "text/plain": [
       "array([0, 0, 0, ..., 0, 0, 0])"
      ]
     },
     "execution_count": 22,
     "metadata": {},
     "output_type": "execute_result"
    }
   ],
   "source": [
    "y_pred"
   ]
  },
  {
   "cell_type": "code",
   "execution_count": 26,
   "metadata": {},
   "outputs": [
    {
     "data": {
      "text/plain": [
       "0.87295476419634266"
      ]
     },
     "execution_count": 26,
     "metadata": {},
     "output_type": "execute_result"
    }
   ],
   "source": [
    "gp.score(X_test, y_test)"
   ]
  },
  {
   "cell_type": "code",
   "execution_count": 28,
   "metadata": {},
   "outputs": [],
   "source": [
    "import sklearn.model_selection"
   ]
  },
  {
   "cell_type": "code",
   "execution_count": 34,
   "metadata": {},
   "outputs": [
    {
     "name": "stderr",
     "output_type": "stream",
     "text": [
      "/Library/Frameworks/Python.framework/Versions/3.5/lib/python3.5/site-packages/sklearn/gaussian_process/gpc.py:410: RuntimeWarning: overflow encountered in exp\n",
      "  - np.log(np.diag(L)).sum()\n",
      "/Library/Frameworks/Python.framework/Versions/3.5/lib/python3.5/site-packages/sklearn/gaussian_process/gpc.py:410: RuntimeWarning: overflow encountered in exp\n",
      "  - np.log(np.diag(L)).sum()\n"
     ]
    }
   ],
   "source": [
    "scores = cross_val_score(gp, X, y, cv = 10)"
   ]
  },
  {
   "cell_type": "code",
   "execution_count": 35,
   "metadata": {},
   "outputs": [
    {
     "data": {
      "text/plain": [
       "0.8699727543876481"
      ]
     },
     "execution_count": 35,
     "metadata": {},
     "output_type": "execute_result"
    }
   ],
   "source": [
    "np.mean(scores)"
   ]
  },
  {
   "cell_type": "code",
   "execution_count": null,
   "metadata": {},
   "outputs": [],
   "source": []
  }
 ],
 "metadata": {
  "kernelspec": {
   "display_name": "Python 3",
   "language": "python",
   "name": "python3"
  },
  "language_info": {
   "codemirror_mode": {
    "name": "ipython",
    "version": 3
   },
   "file_extension": ".py",
   "mimetype": "text/x-python",
   "name": "python",
   "nbconvert_exporter": "python",
   "pygments_lexer": "ipython3",
   "version": "3.6.4"
  }
 },
 "nbformat": 4,
 "nbformat_minor": 2
}
