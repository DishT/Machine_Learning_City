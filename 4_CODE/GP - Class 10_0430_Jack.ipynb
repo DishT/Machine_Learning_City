{
 "cells": [
  {
   "cell_type": "markdown",
   "metadata": {},
   "source": [
    "## GP model for 10 classes"
   ]
  },
  {
   "cell_type": "code",
   "execution_count": 9,
   "metadata": {},
   "outputs": [],
   "source": [
    "import pandas as pd\n",
    "import numpy as np\n",
    "import matplotlib.pylab as plt\n",
    "from sklearn.model_selection import train_test_split\n",
    "from sklearn.model_selection import cross_val_score\n",
    "from sklearn.gaussian_process import GaussianProcessRegressor,GaussianProcessClassifier\n",
    "from sklearn.gaussian_process.kernels import RBF, ConstantKernel,WhiteKernel,RationalQuadratic, Matern, DotProduct\n",
    "%matplotlib inline "
   ]
  },
  {
   "cell_type": "code",
   "execution_count": 10,
   "metadata": {},
   "outputs": [
    {
     "data": {
      "text/html": [
       "<div>\n",
       "<table border=\"1\" class=\"dataframe\">\n",
       "  <thead>\n",
       "    <tr style=\"text-align: right;\">\n",
       "      <th></th>\n",
       "      <th>user_id</th>\n",
       "      <th>age</th>\n",
       "      <th>gender:female_gt_0_5</th>\n",
       "      <th>anxious:agree</th>\n",
       "      <th>anxious:strongly_agree</th>\n",
       "      <th>anxious:disagree</th>\n",
       "      <th>anxious:strongly_disagree</th>\n",
       "      <th>anxious:neither</th>\n",
       "      <th>children:no</th>\n",
       "      <th>children:yes</th>\n",
       "      <th>...</th>\n",
       "      <th>Topic_191</th>\n",
       "      <th>Topic_192</th>\n",
       "      <th>Topic_193</th>\n",
       "      <th>Topic_194</th>\n",
       "      <th>Topic_195</th>\n",
       "      <th>Topic_196</th>\n",
       "      <th>Topic_197</th>\n",
       "      <th>Topic_198</th>\n",
       "      <th>Topic_199</th>\n",
       "      <th>Topic_200</th>\n",
       "    </tr>\n",
       "  </thead>\n",
       "  <tbody>\n",
       "    <tr>\n",
       "      <th>0</th>\n",
       "      <td>1103</td>\n",
       "      <td>30.700773</td>\n",
       "      <td>-0.050586</td>\n",
       "      <td>0.113558</td>\n",
       "      <td>0.034757</td>\n",
       "      <td>0.329889</td>\n",
       "      <td>0.221230</td>\n",
       "      <td>0.300567</td>\n",
       "      <td>0.682671</td>\n",
       "      <td>0.317329</td>\n",
       "      <td>...</td>\n",
       "      <td>0.143927</td>\n",
       "      <td>0.001070</td>\n",
       "      <td>0.001070</td>\n",
       "      <td>0.006956</td>\n",
       "      <td>0.042804</td>\n",
       "      <td>0.036918</td>\n",
       "      <td>0.019797</td>\n",
       "      <td>0.000000</td>\n",
       "      <td>0.093098</td>\n",
       "      <td>0.010166</td>\n",
       "    </tr>\n",
       "    <tr>\n",
       "      <th>1</th>\n",
       "      <td>8273</td>\n",
       "      <td>29.817867</td>\n",
       "      <td>0.376868</td>\n",
       "      <td>0.079798</td>\n",
       "      <td>0.030549</td>\n",
       "      <td>0.360824</td>\n",
       "      <td>0.285467</td>\n",
       "      <td>0.243363</td>\n",
       "      <td>0.693130</td>\n",
       "      <td>0.306870</td>\n",
       "      <td>...</td>\n",
       "      <td>0.164856</td>\n",
       "      <td>0.000000</td>\n",
       "      <td>0.001863</td>\n",
       "      <td>0.004967</td>\n",
       "      <td>0.053710</td>\n",
       "      <td>0.009624</td>\n",
       "      <td>0.005278</td>\n",
       "      <td>0.000621</td>\n",
       "      <td>0.066749</td>\n",
       "      <td>0.007762</td>\n",
       "    </tr>\n",
       "    <tr>\n",
       "      <th>2</th>\n",
       "      <td>9269</td>\n",
       "      <td>31.260406</td>\n",
       "      <td>0.204542</td>\n",
       "      <td>0.079508</td>\n",
       "      <td>0.026907</td>\n",
       "      <td>0.343969</td>\n",
       "      <td>0.273264</td>\n",
       "      <td>0.276351</td>\n",
       "      <td>0.835034</td>\n",
       "      <td>0.164966</td>\n",
       "      <td>...</td>\n",
       "      <td>0.136182</td>\n",
       "      <td>0.000000</td>\n",
       "      <td>0.001230</td>\n",
       "      <td>0.005841</td>\n",
       "      <td>0.014448</td>\n",
       "      <td>0.071011</td>\n",
       "      <td>0.004919</td>\n",
       "      <td>0.010452</td>\n",
       "      <td>0.043345</td>\n",
       "      <td>0.008300</td>\n",
       "    </tr>\n",
       "    <tr>\n",
       "      <th>3</th>\n",
       "      <td>10571</td>\n",
       "      <td>33.120257</td>\n",
       "      <td>0.164126</td>\n",
       "      <td>0.093635</td>\n",
       "      <td>0.037560</td>\n",
       "      <td>0.410242</td>\n",
       "      <td>0.185529</td>\n",
       "      <td>0.273034</td>\n",
       "      <td>0.837154</td>\n",
       "      <td>0.162846</td>\n",
       "      <td>...</td>\n",
       "      <td>0.128398</td>\n",
       "      <td>0.000000</td>\n",
       "      <td>0.002313</td>\n",
       "      <td>0.018508</td>\n",
       "      <td>0.020821</td>\n",
       "      <td>0.024870</td>\n",
       "      <td>0.010989</td>\n",
       "      <td>0.002313</td>\n",
       "      <td>0.074610</td>\n",
       "      <td>0.015616</td>\n",
       "    </tr>\n",
       "    <tr>\n",
       "      <th>4</th>\n",
       "      <td>11758</td>\n",
       "      <td>26.284088</td>\n",
       "      <td>-0.066739</td>\n",
       "      <td>0.103949</td>\n",
       "      <td>0.038573</td>\n",
       "      <td>0.239573</td>\n",
       "      <td>0.237358</td>\n",
       "      <td>0.380548</td>\n",
       "      <td>0.741889</td>\n",
       "      <td>0.258111</td>\n",
       "      <td>...</td>\n",
       "      <td>0.085206</td>\n",
       "      <td>0.000468</td>\n",
       "      <td>0.001404</td>\n",
       "      <td>0.004682</td>\n",
       "      <td>0.010768</td>\n",
       "      <td>0.020599</td>\n",
       "      <td>0.004682</td>\n",
       "      <td>0.001404</td>\n",
       "      <td>0.042603</td>\n",
       "      <td>0.015918</td>\n",
       "    </tr>\n",
       "  </tbody>\n",
       "</table>\n",
       "<p>5 rows × 285 columns</p>\n",
       "</div>"
      ],
      "text/plain": [
       "   user_id        age  gender:female_gt_0_5  anxious:agree  \\\n",
       "0     1103  30.700773             -0.050586       0.113558   \n",
       "1     8273  29.817867              0.376868       0.079798   \n",
       "2     9269  31.260406              0.204542       0.079508   \n",
       "3    10571  33.120257              0.164126       0.093635   \n",
       "4    11758  26.284088             -0.066739       0.103949   \n",
       "\n",
       "   anxious:strongly_agree  anxious:disagree  anxious:strongly_disagree  \\\n",
       "0                0.034757          0.329889                   0.221230   \n",
       "1                0.030549          0.360824                   0.285467   \n",
       "2                0.026907          0.343969                   0.273264   \n",
       "3                0.037560          0.410242                   0.185529   \n",
       "4                0.038573          0.239573                   0.237358   \n",
       "\n",
       "   anxious:neither  children:no  children:yes    ...      Topic_191  \\\n",
       "0         0.300567     0.682671      0.317329    ...       0.143927   \n",
       "1         0.243363     0.693130      0.306870    ...       0.164856   \n",
       "2         0.276351     0.835034      0.164966    ...       0.136182   \n",
       "3         0.273034     0.837154      0.162846    ...       0.128398   \n",
       "4         0.380548     0.741889      0.258111    ...       0.085206   \n",
       "\n",
       "   Topic_192  Topic_193  Topic_194  Topic_195  Topic_196  Topic_197  \\\n",
       "0   0.001070   0.001070   0.006956   0.042804   0.036918   0.019797   \n",
       "1   0.000000   0.001863   0.004967   0.053710   0.009624   0.005278   \n",
       "2   0.000000   0.001230   0.005841   0.014448   0.071011   0.004919   \n",
       "3   0.000000   0.002313   0.018508   0.020821   0.024870   0.010989   \n",
       "4   0.000468   0.001404   0.004682   0.010768   0.020599   0.004682   \n",
       "\n",
       "   Topic_198  Topic_199  Topic_200  \n",
       "0   0.000000   0.093098   0.010166  \n",
       "1   0.000621   0.066749   0.007762  \n",
       "2   0.010452   0.043345   0.008300  \n",
       "3   0.002313   0.074610   0.015616  \n",
       "4   0.001404   0.042603   0.015918  \n",
       "\n",
       "[5 rows x 285 columns]"
      ]
     },
     "execution_count": 10,
     "metadata": {},
     "output_type": "execute_result"
    }
   ],
   "source": [
    "ds_demo = pd.read_csv(\"twitter_income.csv\")\n",
    "ds_demo.head()"
   ]
  },
  {
   "cell_type": "code",
   "execution_count": 11,
   "metadata": {},
   "outputs": [],
   "source": [
    "ds_demo = pd.read_csv(\"twitter_income.csv\")\n",
    "y = pd.cut(ds_demo.loc[:,\"mean_income\"], bins = 10, labels = list(range(0,10)))\n",
    "# X = ds_demo.loc[:,['Topic_163','Topic_139','Topic_124','Topic_28','listed','enlish_tweets','Topic_95','Topic_162','foll_friend_ratio',\n",
    "#  'followers','Topic_32','Topic_173','Topic_56','optimism:optimist','Topic_36','urls','friends','Topic_150','religion:muslim','Topic_157']]\n",
    "# X = ds_demo.loc[:,['Topic_95','Topic_116','Topic_158',\n",
    "#                    'Topic_163','Topic_139','Topic_97','Topic_124',\n",
    "#                    'Topic_38','Topic_37','Topic_19','Topic_64','Topic_11',\n",
    "#                    'Topic_120','Topic_66','Topic_3','Topic_40','Topic_105','Topic_153','Topic_170','Topic_99']]\n",
    "\n",
    "X = ds_demo.loc[:,['Topic_173',\n",
    " 'Topic_116',\n",
    " 'Topic_124',\n",
    " 'Topic_107',\n",
    " 'Topic_139',\n",
    " 'Topic_163',\n",
    " 'age',\n",
    " 'Topic_11',\n",
    " 'Topic_105',\n",
    " 'Topic_29',\n",
    " 'Topic_180',\n",
    " 'Topic_196',\n",
    " 'Topic_66',\n",
    " 'Topic_49',\n",
    " 'foll_friend_ratio',\n",
    " 'Topic_76',\n",
    " 'listed',\n",
    " 'Topic_160',\n",
    " 'gender:female_gt_0_5',\n",
    " 'Topic_95']]\n",
    "\n",
    "X_train,X_test,y_train,y_test=train_test_split(X, y, test_size=0.2, random_state=999)"
   ]
  },
  {
   "cell_type": "code",
   "execution_count": 12,
   "metadata": {},
   "outputs": [
    {
     "data": {
      "text/plain": [
       "<matplotlib.axes._subplots.AxesSubplot at 0x105bda4e0>"
      ]
     },
     "execution_count": 12,
     "metadata": {},
     "output_type": "execute_result"
    },
    {
     "data": {
      "image/png": "[encoded data removed]",
      "text/plain": [
       "<matplotlib.figure.Figure at 0x1133940b8>"
      ]
     },
     "metadata": {},
     "output_type": "display_data"
    }
   ],
   "source": [
    "y.hist()"
   ]
  },
  {
   "cell_type": "code",
   "execution_count": 13,
   "metadata": {},
   "outputs": [],
   "source": [
    "gp.predict?"
   ]
  },
  {
   "cell_type": "code",
   "execution_count": 14,
   "metadata": {},
   "outputs": [
    {
     "data": {
      "text/plain": [
       "GaussianProcessClassifier(copy_X_train=True,\n",
       "             kernel=1**2 * RBF(length_scale=1), max_iter_predict=100,\n",
       "             multi_class='one_vs_rest', n_jobs=1, n_restarts_optimizer=0,\n",
       "             optimizer='fmin_l_bfgs_b', random_state=999, warm_start=False)"
      ]
     },
     "execution_count": 14,
     "metadata": {},
     "output_type": "execute_result"
    }
   ],
   "source": [
    "kernel = 1.* RBF(length_scale=1., length_scale_bounds=(1e-5, 1e5)) \\\n",
    "#     + WhiteKernel(noise_level=1., noise_level_bounds=(1e-5, 1e5)) \\\n",
    "#     + RationalQuadratic(length_scale=1.) \\\n",
    "    \n",
    "# gp = GaussianProcessRegressor(kernel=kernel, random_state=999)\n",
    "gp = GaussianProcessClassifier(kernel=kernel, random_state=999)\n",
    "\n",
    "\n",
    "gp.fit(X_train, y_train)"
   ]
  },
  {
   "cell_type": "code",
   "execution_count": 15,
   "metadata": {
    "scrolled": true
   },
   "outputs": [
    {
     "name": "stdout",
     "output_type": "stream",
     "text": [
      "-1418.73495166\n",
      "CompoundKernel(11.5, 4.92, 0.699, 3.75, 0.0999, 11.5, 11.5, 5.55, 2.45, 8.96, 2.43, 11.5, 11.5, 5.47)\n"
     ]
    }
   ],
   "source": [
    "y_pred = gp.predict(X_test)\n",
    "\n",
    "print(gp.log_marginal_likelihood_value_)\n",
    "print(gp.kernel_)"
   ]
  },
  {
   "cell_type": "code",
   "execution_count": 16,
   "metadata": {},
   "outputs": [
    {
     "data": {
      "text/plain": [
       "array([0, 1, 1, ..., 2, 1, 1])"
      ]
     },
     "execution_count": 16,
     "metadata": {},
     "output_type": "execute_result"
    }
   ],
   "source": [
    "y_pred"
   ]
  },
  {
   "cell_type": "code",
   "execution_count": 17,
   "metadata": {},
   "outputs": [
    {
     "data": {
      "text/plain": [
       "0.38594802694898939"
      ]
     },
     "execution_count": 17,
     "metadata": {},
     "output_type": "execute_result"
    }
   ],
   "source": [
    "gp.score(X_test, y_test)"
   ]
  },
  {
   "cell_type": "code",
   "execution_count": null,
   "metadata": {},
   "outputs": [],
   "source": [
    "import sklearn.model_selection"
   ]
  },
  {
   "cell_type": "code",
   "execution_count": null,
   "metadata": {},
   "outputs": [],
   "source": [
    "scores = cross_val_score(gp, X, y, cv = 10)"
   ]
  },
  {
   "cell_type": "code",
   "execution_count": null,
   "metadata": {},
   "outputs": [],
   "source": [
    "np.mean(scores)"
   ]
  },
  {
   "cell_type": "code",
   "execution_count": null,
   "metadata": {},
   "outputs": [],
   "source": []
  },
  {
   "cell_type": "code",
   "execution_count": null,
   "metadata": {},
   "outputs": [],
   "source": []
  }
 ],
 "metadata": {
  "kernelspec": {
   "display_name": "Python 3",
   "language": "python",
   "name": "python3"
  },
  "language_info": {
   "codemirror_mode": {
    "name": "ipython",
    "version": 3
   },
   "file_extension": ".py",
   "mimetype": "text/x-python",
   "name": "python",
   "nbconvert_exporter": "python",
   "pygments_lexer": "ipython3",
   "version": "3.5.2"
  }
 },
 "nbformat": 4,
 "nbformat_minor": 2
}
