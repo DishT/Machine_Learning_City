{
 "cells": [
  {
   "cell_type": "code",
   "execution_count": 1,
   "metadata": {},
   "outputs": [],
   "source": [
    "import numpy as np\n",
    "import pandas as pd\n",
    "import matplotlib.pyplot as plt\n",
    "from matplotlib import rcParams\n",
    "from numpy import linalg\n",
    "# rcParams['figure.figsize'] = 5, 4"
   ]
  },
  {
   "cell_type": "code",
   "execution_count": 2,
   "metadata": {},
   "outputs": [],
   "source": [
    "from sklearn import svm"
   ]
  },
  {
   "cell_type": "code",
   "execution_count": 3,
   "metadata": {},
   "outputs": [],
   "source": [
    "from sklearn import datasets\n",
    "import pandas as pd\n",
    "import numpy as np\n",
    "import matplotlib.pyplot as plt\n",
    "import seaborn as sns"
   ]
  },
  {
   "cell_type": "code",
   "execution_count": 4,
   "metadata": {},
   "outputs": [],
   "source": [
    "%matplotlib inline"
   ]
  },
  {
   "cell_type": "code",
   "execution_count": 5,
   "metadata": {},
   "outputs": [],
   "source": [
    "# iris = datasets.load_iris()\n",
    "# x = pd.DataFrame(iris['data'], columns=iris['feature_names'])\n",
    "# print(\"target_names: \"+str(iris['target_names']))\n",
    "# y = pd.DataFrame(iris['target'], columns=['target'])\n",
    "# iris_data = pd.concat([x,y], axis=1)\n",
    "# iris_data = iris_data[['sepal length (cm)','petal length (cm)','target']]\n",
    "# iris_data = iris_data[iris_data['target'].isin([0,1])]\n",
    "# iris_data.head(3)"
   ]
  },
  {
   "cell_type": "code",
   "execution_count": 6,
   "metadata": {},
   "outputs": [],
   "source": [
    "from sklearn.model_selection import train_test_split"
   ]
  },
  {
   "cell_type": "code",
   "execution_count": 7,
   "metadata": {},
   "outputs": [],
   "source": [
    "# y_train.head()"
   ]
  },
  {
   "cell_type": "code",
   "execution_count": 8,
   "metadata": {},
   "outputs": [],
   "source": [
    "pca = ['Topic_156', 'Topic_121', 'Topic_68', 'Topic_24', 'Topic_200',\n",
    "       'Topic_65', 'Topic_141', 'race:asian', 'enlish_tweets', 'Topic_199',\n",
    "       'Topic_140', 'anxious:strongly_agree', 'Topic_53', 'Topic_93',\n",
    "       'Topic_37', 'Topic_87', 'surprise', 'Topic_85', 'Topic_116',\n",
    "       'Topic_148']"
   ]
  },
  {
   "cell_type": "code",
   "execution_count": 9,
   "metadata": {},
   "outputs": [],
   "source": [
    "DT = ['Topic_163',\n",
    " 'listed',\n",
    " 'Topic_124',\n",
    " 'Topic_3',\n",
    " 'enlish_tweets',\n",
    " 'Topic_32',\n",
    " 'Topic_95']"
   ]
  },
  {
   "cell_type": "code",
   "execution_count": 10,
   "metadata": {},
   "outputs": [],
   "source": [
    "RF = ['Topic_173',\n",
    " 'Topic_116',\n",
    " 'Topic_124',\n",
    " 'Topic_107',\n",
    " 'Topic_139',\n",
    " 'Topic_163',\n",
    " 'age',\n",
    " 'Topic_11',\n",
    " 'Topic_105',\n",
    " 'Topic_29',\n",
    " 'Topic_180',\n",
    " 'Topic_196',\n",
    " 'Topic_66',\n",
    " 'Topic_49',\n",
    " 'foll_friend_ratio',\n",
    " 'Topic_76',\n",
    " 'listed',\n",
    " 'Topic_160',\n",
    " 'gender:female_gt_0_5',\n",
    " 'Topic_95']"
   ]
  },
  {
   "cell_type": "code",
   "execution_count": 11,
   "metadata": {},
   "outputs": [
    {
     "data": {
      "text/html": [
       "<div>\n",
       "<table border=\"1\" class=\"dataframe\">\n",
       "  <thead>\n",
       "    <tr style=\"text-align: right;\">\n",
       "      <th></th>\n",
       "      <th>user_id</th>\n",
       "      <th>age</th>\n",
       "      <th>gender:female_gt_0_5</th>\n",
       "      <th>anxious:agree</th>\n",
       "      <th>anxious:strongly_agree</th>\n",
       "      <th>anxious:disagree</th>\n",
       "      <th>anxious:strongly_disagree</th>\n",
       "      <th>anxious:neither</th>\n",
       "      <th>children:no</th>\n",
       "      <th>children:yes</th>\n",
       "      <th>...</th>\n",
       "      <th>Topic_191</th>\n",
       "      <th>Topic_192</th>\n",
       "      <th>Topic_193</th>\n",
       "      <th>Topic_194</th>\n",
       "      <th>Topic_195</th>\n",
       "      <th>Topic_196</th>\n",
       "      <th>Topic_197</th>\n",
       "      <th>Topic_198</th>\n",
       "      <th>Topic_199</th>\n",
       "      <th>Topic_200</th>\n",
       "    </tr>\n",
       "  </thead>\n",
       "  <tbody>\n",
       "    <tr>\n",
       "      <th>0</th>\n",
       "      <td>1103</td>\n",
       "      <td>30.700773</td>\n",
       "      <td>-0.050586</td>\n",
       "      <td>0.113558</td>\n",
       "      <td>0.034757</td>\n",
       "      <td>0.329889</td>\n",
       "      <td>0.221230</td>\n",
       "      <td>0.300567</td>\n",
       "      <td>0.682671</td>\n",
       "      <td>0.317329</td>\n",
       "      <td>...</td>\n",
       "      <td>0.143927</td>\n",
       "      <td>0.001070</td>\n",
       "      <td>0.001070</td>\n",
       "      <td>0.006956</td>\n",
       "      <td>0.042804</td>\n",
       "      <td>0.036918</td>\n",
       "      <td>0.019797</td>\n",
       "      <td>0.000000</td>\n",
       "      <td>0.093098</td>\n",
       "      <td>0.010166</td>\n",
       "    </tr>\n",
       "    <tr>\n",
       "      <th>1</th>\n",
       "      <td>8273</td>\n",
       "      <td>29.817867</td>\n",
       "      <td>0.376868</td>\n",
       "      <td>0.079798</td>\n",
       "      <td>0.030549</td>\n",
       "      <td>0.360824</td>\n",
       "      <td>0.285467</td>\n",
       "      <td>0.243363</td>\n",
       "      <td>0.693130</td>\n",
       "      <td>0.306870</td>\n",
       "      <td>...</td>\n",
       "      <td>0.164856</td>\n",
       "      <td>0.000000</td>\n",
       "      <td>0.001863</td>\n",
       "      <td>0.004967</td>\n",
       "      <td>0.053710</td>\n",
       "      <td>0.009624</td>\n",
       "      <td>0.005278</td>\n",
       "      <td>0.000621</td>\n",
       "      <td>0.066749</td>\n",
       "      <td>0.007762</td>\n",
       "    </tr>\n",
       "    <tr>\n",
       "      <th>2</th>\n",
       "      <td>9269</td>\n",
       "      <td>31.260406</td>\n",
       "      <td>0.204542</td>\n",
       "      <td>0.079508</td>\n",
       "      <td>0.026907</td>\n",
       "      <td>0.343969</td>\n",
       "      <td>0.273264</td>\n",
       "      <td>0.276351</td>\n",
       "      <td>0.835034</td>\n",
       "      <td>0.164966</td>\n",
       "      <td>...</td>\n",
       "      <td>0.136182</td>\n",
       "      <td>0.000000</td>\n",
       "      <td>0.001230</td>\n",
       "      <td>0.005841</td>\n",
       "      <td>0.014448</td>\n",
       "      <td>0.071011</td>\n",
       "      <td>0.004919</td>\n",
       "      <td>0.010452</td>\n",
       "      <td>0.043345</td>\n",
       "      <td>0.008300</td>\n",
       "    </tr>\n",
       "    <tr>\n",
       "      <th>3</th>\n",
       "      <td>10571</td>\n",
       "      <td>33.120257</td>\n",
       "      <td>0.164126</td>\n",
       "      <td>0.093635</td>\n",
       "      <td>0.037560</td>\n",
       "      <td>0.410242</td>\n",
       "      <td>0.185529</td>\n",
       "      <td>0.273034</td>\n",
       "      <td>0.837154</td>\n",
       "      <td>0.162846</td>\n",
       "      <td>...</td>\n",
       "      <td>0.128398</td>\n",
       "      <td>0.000000</td>\n",
       "      <td>0.002313</td>\n",
       "      <td>0.018508</td>\n",
       "      <td>0.020821</td>\n",
       "      <td>0.024870</td>\n",
       "      <td>0.010989</td>\n",
       "      <td>0.002313</td>\n",
       "      <td>0.074610</td>\n",
       "      <td>0.015616</td>\n",
       "    </tr>\n",
       "    <tr>\n",
       "      <th>4</th>\n",
       "      <td>11758</td>\n",
       "      <td>26.284088</td>\n",
       "      <td>-0.066739</td>\n",
       "      <td>0.103949</td>\n",
       "      <td>0.038573</td>\n",
       "      <td>0.239573</td>\n",
       "      <td>0.237358</td>\n",
       "      <td>0.380548</td>\n",
       "      <td>0.741889</td>\n",
       "      <td>0.258111</td>\n",
       "      <td>...</td>\n",
       "      <td>0.085206</td>\n",
       "      <td>0.000468</td>\n",
       "      <td>0.001404</td>\n",
       "      <td>0.004682</td>\n",
       "      <td>0.010768</td>\n",
       "      <td>0.020599</td>\n",
       "      <td>0.004682</td>\n",
       "      <td>0.001404</td>\n",
       "      <td>0.042603</td>\n",
       "      <td>0.015918</td>\n",
       "    </tr>\n",
       "  </tbody>\n",
       "</table>\n",
       "<p>5 rows × 285 columns</p>\n",
       "</div>"
      ],
      "text/plain": [
       "   user_id        age  gender:female_gt_0_5  anxious:agree  \\\n",
       "0     1103  30.700773             -0.050586       0.113558   \n",
       "1     8273  29.817867              0.376868       0.079798   \n",
       "2     9269  31.260406              0.204542       0.079508   \n",
       "3    10571  33.120257              0.164126       0.093635   \n",
       "4    11758  26.284088             -0.066739       0.103949   \n",
       "\n",
       "   anxious:strongly_agree  anxious:disagree  anxious:strongly_disagree  \\\n",
       "0                0.034757          0.329889                   0.221230   \n",
       "1                0.030549          0.360824                   0.285467   \n",
       "2                0.026907          0.343969                   0.273264   \n",
       "3                0.037560          0.410242                   0.185529   \n",
       "4                0.038573          0.239573                   0.237358   \n",
       "\n",
       "   anxious:neither  children:no  children:yes    ...      Topic_191  \\\n",
       "0         0.300567     0.682671      0.317329    ...       0.143927   \n",
       "1         0.243363     0.693130      0.306870    ...       0.164856   \n",
       "2         0.276351     0.835034      0.164966    ...       0.136182   \n",
       "3         0.273034     0.837154      0.162846    ...       0.128398   \n",
       "4         0.380548     0.741889      0.258111    ...       0.085206   \n",
       "\n",
       "   Topic_192  Topic_193  Topic_194  Topic_195  Topic_196  Topic_197  \\\n",
       "0   0.001070   0.001070   0.006956   0.042804   0.036918   0.019797   \n",
       "1   0.000000   0.001863   0.004967   0.053710   0.009624   0.005278   \n",
       "2   0.000000   0.001230   0.005841   0.014448   0.071011   0.004919   \n",
       "3   0.000000   0.002313   0.018508   0.020821   0.024870   0.010989   \n",
       "4   0.000468   0.001404   0.004682   0.010768   0.020599   0.004682   \n",
       "\n",
       "   Topic_198  Topic_199  Topic_200  \n",
       "0   0.000000   0.093098   0.010166  \n",
       "1   0.000621   0.066749   0.007762  \n",
       "2   0.010452   0.043345   0.008300  \n",
       "3   0.002313   0.074610   0.015616  \n",
       "4   0.001404   0.042603   0.015918  \n",
       "\n",
       "[5 rows x 285 columns]"
      ]
     },
     "execution_count": 11,
     "metadata": {},
     "output_type": "execute_result"
    }
   ],
   "source": [
    "ds_demo = pd.read_csv(\"twitter_income.csv\")\n",
    "ds_demo.head(5)"
   ]
  },
  {
   "cell_type": "code",
   "execution_count": 12,
   "metadata": {},
   "outputs": [
    {
     "data": {
      "text/html": [
       "<div>\n",
       "<table border=\"1\" class=\"dataframe\">\n",
       "  <thead>\n",
       "    <tr style=\"text-align: right;\">\n",
       "      <th></th>\n",
       "      <th>Topic_163</th>\n",
       "      <th>listed</th>\n",
       "      <th>Topic_124</th>\n",
       "      <th>Topic_3</th>\n",
       "      <th>enlish_tweets</th>\n",
       "      <th>Topic_32</th>\n",
       "      <th>Topic_95</th>\n",
       "    </tr>\n",
       "  </thead>\n",
       "  <tbody>\n",
       "    <tr>\n",
       "      <th>0</th>\n",
       "      <td>0.026752</td>\n",
       "      <td>119.0</td>\n",
       "      <td>0.031033</td>\n",
       "      <td>0.146602</td>\n",
       "      <td>0.963082</td>\n",
       "      <td>0.017657</td>\n",
       "      <td>0.025682</td>\n",
       "    </tr>\n",
       "    <tr>\n",
       "      <th>1</th>\n",
       "      <td>0.012108</td>\n",
       "      <td>218.0</td>\n",
       "      <td>0.005899</td>\n",
       "      <td>0.156473</td>\n",
       "      <td>0.914933</td>\n",
       "      <td>0.002794</td>\n",
       "      <td>0.008072</td>\n",
       "    </tr>\n",
       "    <tr>\n",
       "      <th>2</th>\n",
       "      <td>0.031356</td>\n",
       "      <td>534.0</td>\n",
       "      <td>0.025208</td>\n",
       "      <td>0.116815</td>\n",
       "      <td>0.893637</td>\n",
       "      <td>0.011067</td>\n",
       "      <td>0.013833</td>\n",
       "    </tr>\n",
       "    <tr>\n",
       "      <th>3</th>\n",
       "      <td>0.020243</td>\n",
       "      <td>6.0</td>\n",
       "      <td>0.006940</td>\n",
       "      <td>0.144014</td>\n",
       "      <td>0.942741</td>\n",
       "      <td>0.008097</td>\n",
       "      <td>0.006940</td>\n",
       "    </tr>\n",
       "    <tr>\n",
       "      <th>4</th>\n",
       "      <td>0.007959</td>\n",
       "      <td>11.0</td>\n",
       "      <td>0.009831</td>\n",
       "      <td>0.085674</td>\n",
       "      <td>0.937734</td>\n",
       "      <td>0.004682</td>\n",
       "      <td>0.005618</td>\n",
       "    </tr>\n",
       "  </tbody>\n",
       "</table>\n",
       "</div>"
      ],
      "text/plain": [
       "   Topic_163  listed  Topic_124   Topic_3  enlish_tweets  Topic_32  Topic_95\n",
       "0   0.026752   119.0   0.031033  0.146602       0.963082  0.017657  0.025682\n",
       "1   0.012108   218.0   0.005899  0.156473       0.914933  0.002794  0.008072\n",
       "2   0.031356   534.0   0.025208  0.116815       0.893637  0.011067  0.013833\n",
       "3   0.020243     6.0   0.006940  0.144014       0.942741  0.008097  0.006940\n",
       "4   0.007959    11.0   0.009831  0.085674       0.937734  0.004682  0.005618"
      ]
     },
     "execution_count": 12,
     "metadata": {},
     "output_type": "execute_result"
    }
   ],
   "source": [
    "df_DT = ds_demo[DT]\n",
    "df_DT.head()"
   ]
  },
  {
   "cell_type": "code",
   "execution_count": 13,
   "metadata": {},
   "outputs": [
    {
     "data": {
      "text/html": [
       "<div>\n",
       "<table border=\"1\" class=\"dataframe\">\n",
       "  <thead>\n",
       "    <tr style=\"text-align: right;\">\n",
       "      <th></th>\n",
       "      <th>Topic_173</th>\n",
       "      <th>Topic_116</th>\n",
       "      <th>Topic_124</th>\n",
       "      <th>Topic_107</th>\n",
       "      <th>Topic_139</th>\n",
       "      <th>Topic_163</th>\n",
       "      <th>age</th>\n",
       "      <th>Topic_11</th>\n",
       "      <th>Topic_105</th>\n",
       "      <th>Topic_29</th>\n",
       "      <th>Topic_180</th>\n",
       "      <th>Topic_196</th>\n",
       "      <th>Topic_66</th>\n",
       "      <th>Topic_49</th>\n",
       "      <th>foll_friend_ratio</th>\n",
       "      <th>Topic_76</th>\n",
       "      <th>listed</th>\n",
       "      <th>Topic_160</th>\n",
       "      <th>gender:female_gt_0_5</th>\n",
       "      <th>Topic_95</th>\n",
       "    </tr>\n",
       "  </thead>\n",
       "  <tbody>\n",
       "    <tr>\n",
       "      <th>0</th>\n",
       "      <td>0.004815</td>\n",
       "      <td>0.025147</td>\n",
       "      <td>0.031033</td>\n",
       "      <td>0.026752</td>\n",
       "      <td>0.023007</td>\n",
       "      <td>0.026752</td>\n",
       "      <td>30.700773</td>\n",
       "      <td>0.010166</td>\n",
       "      <td>0.008026</td>\n",
       "      <td>0.008561</td>\n",
       "      <td>0.018727</td>\n",
       "      <td>0.036918</td>\n",
       "      <td>0.004815</td>\n",
       "      <td>0.004280</td>\n",
       "      <td>4.115183</td>\n",
       "      <td>0.044409</td>\n",
       "      <td>119.0</td>\n",
       "      <td>0.004280</td>\n",
       "      <td>-0.050586</td>\n",
       "      <td>0.025682</td>\n",
       "    </tr>\n",
       "    <tr>\n",
       "      <th>1</th>\n",
       "      <td>0.006520</td>\n",
       "      <td>0.012729</td>\n",
       "      <td>0.005899</td>\n",
       "      <td>0.005899</td>\n",
       "      <td>0.007451</td>\n",
       "      <td>0.012108</td>\n",
       "      <td>29.817867</td>\n",
       "      <td>0.004967</td>\n",
       "      <td>0.005278</td>\n",
       "      <td>0.025147</td>\n",
       "      <td>0.002484</td>\n",
       "      <td>0.009624</td>\n",
       "      <td>0.017696</td>\n",
       "      <td>0.006520</td>\n",
       "      <td>4.754741</td>\n",
       "      <td>0.012729</td>\n",
       "      <td>218.0</td>\n",
       "      <td>0.005588</td>\n",
       "      <td>0.376868</td>\n",
       "      <td>0.008072</td>\n",
       "    </tr>\n",
       "    <tr>\n",
       "      <th>2</th>\n",
       "      <td>0.000307</td>\n",
       "      <td>0.014448</td>\n",
       "      <td>0.025208</td>\n",
       "      <td>0.004304</td>\n",
       "      <td>0.009530</td>\n",
       "      <td>0.031356</td>\n",
       "      <td>31.260406</td>\n",
       "      <td>0.007993</td>\n",
       "      <td>0.001230</td>\n",
       "      <td>0.015063</td>\n",
       "      <td>0.007685</td>\n",
       "      <td>0.071011</td>\n",
       "      <td>0.002459</td>\n",
       "      <td>0.002767</td>\n",
       "      <td>9.134267</td>\n",
       "      <td>0.018445</td>\n",
       "      <td>534.0</td>\n",
       "      <td>0.007685</td>\n",
       "      <td>0.204542</td>\n",
       "      <td>0.013833</td>\n",
       "    </tr>\n",
       "    <tr>\n",
       "      <th>3</th>\n",
       "      <td>0.004627</td>\n",
       "      <td>0.009254</td>\n",
       "      <td>0.006940</td>\n",
       "      <td>0.008097</td>\n",
       "      <td>0.038751</td>\n",
       "      <td>0.020243</td>\n",
       "      <td>33.120257</td>\n",
       "      <td>0.009254</td>\n",
       "      <td>0.005205</td>\n",
       "      <td>0.020821</td>\n",
       "      <td>0.012146</td>\n",
       "      <td>0.024870</td>\n",
       "      <td>0.012146</td>\n",
       "      <td>0.008097</td>\n",
       "      <td>1.259508</td>\n",
       "      <td>0.015616</td>\n",
       "      <td>6.0</td>\n",
       "      <td>0.005784</td>\n",
       "      <td>0.164126</td>\n",
       "      <td>0.006940</td>\n",
       "    </tr>\n",
       "    <tr>\n",
       "      <th>4</th>\n",
       "      <td>0.007491</td>\n",
       "      <td>0.022004</td>\n",
       "      <td>0.009831</td>\n",
       "      <td>0.009363</td>\n",
       "      <td>0.007959</td>\n",
       "      <td>0.007959</td>\n",
       "      <td>26.284088</td>\n",
       "      <td>0.003745</td>\n",
       "      <td>0.006086</td>\n",
       "      <td>0.011704</td>\n",
       "      <td>0.007022</td>\n",
       "      <td>0.020599</td>\n",
       "      <td>0.007491</td>\n",
       "      <td>0.002341</td>\n",
       "      <td>0.996403</td>\n",
       "      <td>0.013109</td>\n",
       "      <td>11.0</td>\n",
       "      <td>0.006554</td>\n",
       "      <td>-0.066739</td>\n",
       "      <td>0.005618</td>\n",
       "    </tr>\n",
       "  </tbody>\n",
       "</table>\n",
       "</div>"
      ],
      "text/plain": [
       "   Topic_173  Topic_116  Topic_124  Topic_107  Topic_139  Topic_163  \\\n",
       "0   0.004815   0.025147   0.031033   0.026752   0.023007   0.026752   \n",
       "1   0.006520   0.012729   0.005899   0.005899   0.007451   0.012108   \n",
       "2   0.000307   0.014448   0.025208   0.004304   0.009530   0.031356   \n",
       "3   0.004627   0.009254   0.006940   0.008097   0.038751   0.020243   \n",
       "4   0.007491   0.022004   0.009831   0.009363   0.007959   0.007959   \n",
       "\n",
       "         age  Topic_11  Topic_105  Topic_29  Topic_180  Topic_196  Topic_66  \\\n",
       "0  30.700773  0.010166   0.008026  0.008561   0.018727   0.036918  0.004815   \n",
       "1  29.817867  0.004967   0.005278  0.025147   0.002484   0.009624  0.017696   \n",
       "2  31.260406  0.007993   0.001230  0.015063   0.007685   0.071011  0.002459   \n",
       "3  33.120257  0.009254   0.005205  0.020821   0.012146   0.024870  0.012146   \n",
       "4  26.284088  0.003745   0.006086  0.011704   0.007022   0.020599  0.007491   \n",
       "\n",
       "   Topic_49  foll_friend_ratio  Topic_76  listed  Topic_160  \\\n",
       "0  0.004280           4.115183  0.044409   119.0   0.004280   \n",
       "1  0.006520           4.754741  0.012729   218.0   0.005588   \n",
       "2  0.002767           9.134267  0.018445   534.0   0.007685   \n",
       "3  0.008097           1.259508  0.015616     6.0   0.005784   \n",
       "4  0.002341           0.996403  0.013109    11.0   0.006554   \n",
       "\n",
       "   gender:female_gt_0_5  Topic_95  \n",
       "0             -0.050586  0.025682  \n",
       "1              0.376868  0.008072  \n",
       "2              0.204542  0.013833  \n",
       "3              0.164126  0.006940  \n",
       "4             -0.066739  0.005618  "
      ]
     },
     "execution_count": 13,
     "metadata": {},
     "output_type": "execute_result"
    }
   ],
   "source": [
    "df_RF = ds_demo[RF]\n",
    "df_RF.head()"
   ]
  },
  {
   "cell_type": "code",
   "execution_count": 14,
   "metadata": {},
   "outputs": [
    {
     "data": {
      "text/html": [
       "<div>\n",
       "<table border=\"1\" class=\"dataframe\">\n",
       "  <thead>\n",
       "    <tr style=\"text-align: right;\">\n",
       "      <th></th>\n",
       "      <th>Topic_156</th>\n",
       "      <th>Topic_121</th>\n",
       "      <th>Topic_68</th>\n",
       "      <th>Topic_24</th>\n",
       "      <th>Topic_200</th>\n",
       "      <th>Topic_65</th>\n",
       "      <th>Topic_141</th>\n",
       "      <th>race:asian</th>\n",
       "      <th>enlish_tweets</th>\n",
       "      <th>Topic_199</th>\n",
       "      <th>Topic_140</th>\n",
       "      <th>anxious:strongly_agree</th>\n",
       "      <th>Topic_53</th>\n",
       "      <th>Topic_93</th>\n",
       "      <th>Topic_37</th>\n",
       "      <th>Topic_87</th>\n",
       "      <th>surprise</th>\n",
       "      <th>Topic_85</th>\n",
       "      <th>Topic_116</th>\n",
       "      <th>Topic_148</th>\n",
       "    </tr>\n",
       "  </thead>\n",
       "  <tbody>\n",
       "    <tr>\n",
       "      <th>0</th>\n",
       "      <td>0.003745</td>\n",
       "      <td>0.017121</td>\n",
       "      <td>0.025682</td>\n",
       "      <td>0.039593</td>\n",
       "      <td>0.010166</td>\n",
       "      <td>0.073836</td>\n",
       "      <td>0.082397</td>\n",
       "      <td>0.053103</td>\n",
       "      <td>0.963082</td>\n",
       "      <td>0.093098</td>\n",
       "      <td>0.024077</td>\n",
       "      <td>0.034757</td>\n",
       "      <td>0.016051</td>\n",
       "      <td>0.002140</td>\n",
       "      <td>0.029428</td>\n",
       "      <td>0.000000</td>\n",
       "      <td>0.20</td>\n",
       "      <td>0.000000</td>\n",
       "      <td>0.025147</td>\n",
       "      <td>0.018192</td>\n",
       "    </tr>\n",
       "    <tr>\n",
       "      <th>1</th>\n",
       "      <td>0.007762</td>\n",
       "      <td>0.010556</td>\n",
       "      <td>0.028873</td>\n",
       "      <td>0.010556</td>\n",
       "      <td>0.007762</td>\n",
       "      <td>0.075132</td>\n",
       "      <td>0.049053</td>\n",
       "      <td>0.055728</td>\n",
       "      <td>0.914933</td>\n",
       "      <td>0.066749</td>\n",
       "      <td>0.012419</td>\n",
       "      <td>0.030549</td>\n",
       "      <td>0.020180</td>\n",
       "      <td>0.001242</td>\n",
       "      <td>0.020180</td>\n",
       "      <td>0.000000</td>\n",
       "      <td>0.26</td>\n",
       "      <td>0.000621</td>\n",
       "      <td>0.012729</td>\n",
       "      <td>0.020801</td>\n",
       "    </tr>\n",
       "    <tr>\n",
       "      <th>2</th>\n",
       "      <td>0.005533</td>\n",
       "      <td>0.025208</td>\n",
       "      <td>0.011682</td>\n",
       "      <td>0.031048</td>\n",
       "      <td>0.008300</td>\n",
       "      <td>0.023670</td>\n",
       "      <td>0.045804</td>\n",
       "      <td>0.057639</td>\n",
       "      <td>0.893637</td>\n",
       "      <td>0.043345</td>\n",
       "      <td>0.040578</td>\n",
       "      <td>0.026907</td>\n",
       "      <td>0.003074</td>\n",
       "      <td>0.001844</td>\n",
       "      <td>0.019059</td>\n",
       "      <td>0.000000</td>\n",
       "      <td>0.23</td>\n",
       "      <td>0.000615</td>\n",
       "      <td>0.014448</td>\n",
       "      <td>0.019674</td>\n",
       "    </tr>\n",
       "    <tr>\n",
       "      <th>3</th>\n",
       "      <td>0.006940</td>\n",
       "      <td>0.025448</td>\n",
       "      <td>0.024291</td>\n",
       "      <td>0.008676</td>\n",
       "      <td>0.015616</td>\n",
       "      <td>0.045691</td>\n",
       "      <td>0.052053</td>\n",
       "      <td>0.066914</td>\n",
       "      <td>0.942741</td>\n",
       "      <td>0.074610</td>\n",
       "      <td>0.015616</td>\n",
       "      <td>0.037560</td>\n",
       "      <td>0.008676</td>\n",
       "      <td>0.000000</td>\n",
       "      <td>0.039907</td>\n",
       "      <td>0.001157</td>\n",
       "      <td>0.19</td>\n",
       "      <td>0.002313</td>\n",
       "      <td>0.009254</td>\n",
       "      <td>0.012724</td>\n",
       "    </tr>\n",
       "    <tr>\n",
       "      <th>4</th>\n",
       "      <td>0.007959</td>\n",
       "      <td>0.013577</td>\n",
       "      <td>0.013577</td>\n",
       "      <td>0.018258</td>\n",
       "      <td>0.015918</td>\n",
       "      <td>0.023408</td>\n",
       "      <td>0.042135</td>\n",
       "      <td>0.062304</td>\n",
       "      <td>0.937734</td>\n",
       "      <td>0.042603</td>\n",
       "      <td>0.007491</td>\n",
       "      <td>0.038573</td>\n",
       "      <td>0.004213</td>\n",
       "      <td>0.000000</td>\n",
       "      <td>0.011236</td>\n",
       "      <td>0.000000</td>\n",
       "      <td>0.18</td>\n",
       "      <td>0.000000</td>\n",
       "      <td>0.022004</td>\n",
       "      <td>0.008427</td>\n",
       "    </tr>\n",
       "  </tbody>\n",
       "</table>\n",
       "</div>"
      ],
      "text/plain": [
       "   Topic_156  Topic_121  Topic_68  Topic_24  Topic_200  Topic_65  Topic_141  \\\n",
       "0   0.003745   0.017121  0.025682  0.039593   0.010166  0.073836   0.082397   \n",
       "1   0.007762   0.010556  0.028873  0.010556   0.007762  0.075132   0.049053   \n",
       "2   0.005533   0.025208  0.011682  0.031048   0.008300  0.023670   0.045804   \n",
       "3   0.006940   0.025448  0.024291  0.008676   0.015616  0.045691   0.052053   \n",
       "4   0.007959   0.013577  0.013577  0.018258   0.015918  0.023408   0.042135   \n",
       "\n",
       "   race:asian  enlish_tweets  Topic_199  Topic_140  anxious:strongly_agree  \\\n",
       "0    0.053103       0.963082   0.093098   0.024077                0.034757   \n",
       "1    0.055728       0.914933   0.066749   0.012419                0.030549   \n",
       "2    0.057639       0.893637   0.043345   0.040578                0.026907   \n",
       "3    0.066914       0.942741   0.074610   0.015616                0.037560   \n",
       "4    0.062304       0.937734   0.042603   0.007491                0.038573   \n",
       "\n",
       "   Topic_53  Topic_93  Topic_37  Topic_87  surprise  Topic_85  Topic_116  \\\n",
       "0  0.016051  0.002140  0.029428  0.000000      0.20  0.000000   0.025147   \n",
       "1  0.020180  0.001242  0.020180  0.000000      0.26  0.000621   0.012729   \n",
       "2  0.003074  0.001844  0.019059  0.000000      0.23  0.000615   0.014448   \n",
       "3  0.008676  0.000000  0.039907  0.001157      0.19  0.002313   0.009254   \n",
       "4  0.004213  0.000000  0.011236  0.000000      0.18  0.000000   0.022004   \n",
       "\n",
       "   Topic_148  \n",
       "0   0.018192  \n",
       "1   0.020801  \n",
       "2   0.019674  \n",
       "3   0.012724  \n",
       "4   0.008427  "
      ]
     },
     "execution_count": 14,
     "metadata": {},
     "output_type": "execute_result"
    }
   ],
   "source": [
    "df_PCA = ds_demo[pca]\n",
    "df_PCA.head()"
   ]
  },
  {
   "cell_type": "code",
   "execution_count": 15,
   "metadata": {},
   "outputs": [
    {
     "data": {
      "text/plain": [
       "0    40848\n",
       "1    42800\n",
       "2    40848\n",
       "3    10325\n",
       "4    34684\n",
       "Name: mean_income, dtype: int64"
      ]
     },
     "execution_count": 15,
     "metadata": {},
     "output_type": "execute_result"
    }
   ],
   "source": [
    "Y = ds_demo[\"mean_income\"]\n",
    "Y.head()"
   ]
  },
  {
   "cell_type": "code",
   "execution_count": 16,
   "metadata": {},
   "outputs": [
    {
     "data": {
      "text/plain": [
       "0    3\n",
       "1    3\n",
       "2    3\n",
       "3    0\n",
       "4    2\n",
       "Name: mean_income, dtype: int64"
      ]
     },
     "execution_count": 16,
     "metadata": {},
     "output_type": "execute_result"
    }
   ],
   "source": [
    "Y = pd.cut(ds_demo.loc[:,\"mean_income\"], bins = 10, labels = list(range(0,10))).astype('int64')\n",
    "Y.head()"
   ]
  },
  {
   "cell_type": "code",
   "execution_count": 17,
   "metadata": {},
   "outputs": [],
   "source": [
    "X_train, X_test, y_train, y_test = train_test_split(\n",
    "    df_RF, Y, test_size=0.2, random_state=999)"
   ]
  },
  {
   "cell_type": "code",
   "execution_count": 18,
   "metadata": {},
   "outputs": [],
   "source": [
    "from sklearn.preprocessing import StandardScaler\n",
    "\n",
    "sc = StandardScaler()\n",
    "sc.fit(X_train)\n",
    "X_train_std = sc.transform(X_train)\n",
    "X_test_std = sc.transform(X_test)"
   ]
  },
  {
   "cell_type": "code",
   "execution_count": 19,
   "metadata": {},
   "outputs": [],
   "source": [
    "from sklearn.svm import SVC\n",
    "from sklearn.svm import SVR"
   ]
  },
  {
   "cell_type": "code",
   "execution_count": 20,
   "metadata": {},
   "outputs": [],
   "source": [
    "svm = SVR(kernel='linear')"
   ]
  },
  {
   "cell_type": "code",
   "execution_count": 21,
   "metadata": {},
   "outputs": [
    {
     "data": {
      "text/plain": [
       "SVR(C=1.0, cache_size=200, coef0=0.0, degree=3, epsilon=0.1, gamma='auto',\n",
       "  kernel='linear', max_iter=-1, shrinking=True, tol=0.001, verbose=False)"
      ]
     },
     "execution_count": 21,
     "metadata": {},
     "output_type": "execute_result"
    }
   ],
   "source": [
    "svm.fit(X_train_std,y_train.values)"
   ]
  },
  {
   "cell_type": "code",
   "execution_count": 22,
   "metadata": {},
   "outputs": [
    {
     "data": {
      "text/plain": [
       "array([ 1.03294164,  1.34589639,  1.3250373 , ...,  1.73186916,\n",
       "        1.02511255,  1.31191503])"
      ]
     },
     "execution_count": 22,
     "metadata": {},
     "output_type": "execute_result"
    }
   ],
   "source": [
    "svm.predict(X_test_std)"
   ]
  },
  {
   "cell_type": "code",
   "execution_count": 23,
   "metadata": {},
   "outputs": [
    {
     "data": {
      "text/plain": [
       "1039"
      ]
     },
     "execution_count": 23,
     "metadata": {},
     "output_type": "execute_result"
    }
   ],
   "source": [
    "len(y_test.values)"
   ]
  },
  {
   "cell_type": "code",
   "execution_count": 24,
   "metadata": {},
   "outputs": [
    {
     "name": "stdout",
     "output_type": "stream",
     "text": [
      "1039\n"
     ]
    }
   ],
   "source": [
    "error = 0\n",
    "for i, v in enumerate(svm.predict(X_test_std)):\n",
    "    if v!= y_test.values[i]:\n",
    "        error+=1\n",
    "print(error)"
   ]
  },
  {
   "cell_type": "code",
   "execution_count": 25,
   "metadata": {},
   "outputs": [
    {
     "data": {
      "text/plain": [
       "1.0"
      ]
     },
     "execution_count": 25,
     "metadata": {},
     "output_type": "execute_result"
    }
   ],
   "source": [
    "acc = error / len(y_test.values)\n",
    "acc"
   ]
  },
  {
   "cell_type": "code",
   "execution_count": 26,
   "metadata": {},
   "outputs": [
    {
     "ename": "AttributeError",
     "evalue": "'SVR' object has no attribute 'predict_proba'",
     "output_type": "error",
     "traceback": [
      "\u001b[0;31m---------------------------------------------------------------------------\u001b[0m",
      "\u001b[0;31mAttributeError\u001b[0m                            Traceback (most recent call last)",
      "\u001b[0;32m<ipython-input-26-24e6c834164e>\u001b[0m in \u001b[0;36m<module>\u001b[0;34m()\u001b[0m\n\u001b[0;32m----> 1\u001b[0;31m \u001b[0msvm\u001b[0m\u001b[0;34m.\u001b[0m\u001b[0mpredict_proba\u001b[0m\u001b[0;34m(\u001b[0m\u001b[0mX_test_std\u001b[0m\u001b[0;34m)\u001b[0m\u001b[0;34m\u001b[0m\u001b[0m\n\u001b[0m",
      "\u001b[0;31mAttributeError\u001b[0m: 'SVR' object has no attribute 'predict_proba'"
     ]
    }
   ],
   "source": [
    "svm.predict_proba(X_test_std)"
   ]
  },
  {
   "cell_type": "code",
   "execution_count": null,
   "metadata": {},
   "outputs": [],
   "source": [
    "X_train, X_test, y_train, y_test = train_test_split(\n",
    "    df_RF, Y, test_size=0.2, random_state=999)"
   ]
  },
  {
   "cell_type": "code",
   "execution_count": null,
   "metadata": {},
   "outputs": [],
   "source": [
    "from sklearn.model_selection import GridSearchCV\n",
    "from sklearn import svm\n",
    "# your code here\n",
    "param_grid ={\"kernel\": [\"rbf\"],\n",
    "             'C': 10**np.linspace(-1,10,20), \n",
    "             \"gamma\": 10**np.linspace(-1,10,20),\n",
    "             \"max_iter\" : [100], \n",
    "             \"coef0\" : 10**np.linspace(-3,3,20)}\n",
    "\n",
    "rr = svm.SVR()\n",
    "gr = GridSearchCV( rr, param_grid=param_grid)\n",
    "rs = gr.fit(X_train,y_train)\n",
    "print(rs.best_params_)"
   ]
  },
  {
   "cell_type": "code",
   "execution_count": 27,
   "metadata": {},
   "outputs": [],
   "source": [
    "# from sklearn.model_selection import train_test_split\n",
    "\n",
    "# for i in range(10):\n",
    "#     X_train, X_test, Y_train, Y_test = train_test_split(df_RF, Y, test_size=0.33, random_state=i)\n",
    "\n",
    "#     clf = svm.SVR(kernel='rbf', C=16237.767391887242) \n",
    "#     clf.fit(X_train, Y_train)\n",
    "#     print(clf.score(X_test, Y_test))\n",
    "# #     correct=1.0*(clf.predict(X_test) == np.asarray(Y_test)).sum()/len(Y_test)\n",
    "\n",
    "# #     print ( \"Out of sample, we successfully predict {} percent of the data\".format((correct)*100))"
   ]
  },
  {
   "cell_type": "code",
   "execution_count": null,
   "metadata": {},
   "outputs": [],
   "source": [
    "{'coef0': 0.001, 'max_iter': 100, 'kernel': 'rbf', 'C': 1.4384498882876631, 'gamma': 1.4384498882876631}"
   ]
  },
  {
   "cell_type": "code",
   "execution_count": 29,
   "metadata": {},
   "outputs": [
    {
     "name": "stdout",
     "output_type": "stream",
     "text": [
      "0.362848893167\n",
      "Out of sample, we successfully predict 36.28488931665063 percent of the data\n",
      "0.320500481232\n",
      "Out of sample, we successfully predict 32.05004812319538 percent of the data\n",
      "0.322425409047\n",
      "Out of sample, we successfully predict 32.24254090471607 percent of the data\n",
      "0.310875842156\n",
      "Out of sample, we successfully predict 31.087584215591917 percent of the data\n",
      "0.324350336862\n",
      "Out of sample, we successfully predict 32.435033686236764 percent of the data\n",
      "0.346487006737\n",
      "Out of sample, we successfully predict 34.64870067372473 percent of the data\n",
      "0.32531280077\n",
      "Out of sample, we successfully predict 32.53128007699711 percent of the data\n",
      "0.328200192493\n",
      "Out of sample, we successfully predict 32.820019249278154 percent of the data\n",
      "0.318575553417\n",
      "Out of sample, we successfully predict 31.857555341674686 percent of the data\n",
      "0.317613089509\n",
      "Out of sample, we successfully predict 31.76130895091434 percent of the data\n"
     ]
    }
   ],
   "source": [
    "from sklearn.model_selection import train_test_split\n",
    "from sklearn import svm\n",
    "for i in range(990,1000):\n",
    "    X_train, X_test, Y_train, Y_test = train_test_split(df_RF, Y, test_size=0.2, random_state=i)\n",
    "\n",
    "    clf = svm.SVC(kernel='rbf', C=1.438449888287663, gamma = 1.438449888287663) \n",
    "    clf.fit(X_train, Y_train)\n",
    "    print(clf.score(X_test, Y_test))\n",
    "    correct=1.0*(clf.predict(X_test) == np.asarray(Y_test)).sum()/len(Y_test)\n",
    "    \n",
    "    print ( \"Out of sample, we successfully predict {} percent of the data\".format((correct)*100))"
   ]
  },
  {
   "cell_type": "code",
   "execution_count": null,
   "metadata": {},
   "outputs": [],
   "source": [
    "from sklearn.model_selection import cross_val_score\n",
    "scores = cross_val_score(clf, df_RF, Y, cv = 10)"
   ]
  },
  {
   "cell_type": "code",
   "execution_count": null,
   "metadata": {},
   "outputs": [],
   "source": [
    "np.mean(scores)"
   ]
  },
  {
   "cell_type": "code",
   "execution_count": 33,
   "metadata": {},
   "outputs": [],
   "source": [
    "y_pred = clf.predict(X_test)"
   ]
  },
  {
   "cell_type": "code",
   "execution_count": 34,
   "metadata": {},
   "outputs": [
    {
     "data": {
      "text/plain": [
       "array(['setosa', 'versicolor', 'virginica'], \n",
       "      dtype='<U10')"
      ]
     },
     "execution_count": 34,
     "metadata": {},
     "output_type": "execute_result"
    }
   ],
   "source": []
  },
  {
   "cell_type": "code",
   "execution_count": 32,
   "metadata": {},
   "outputs": [
    {
     "ename": "NameError",
     "evalue": "name 'class_names' is not defined",
     "output_type": "error",
     "traceback": [
      "\u001b[0;31m---------------------------------------------------------------------------\u001b[0m",
      "\u001b[0;31mNameError\u001b[0m                                 Traceback (most recent call last)",
      "\u001b[0;32m<ipython-input-32-9de5e3788322>\u001b[0m in \u001b[0;36m<module>\u001b[0;34m()\u001b[0m\n\u001b[1;32m     46\u001b[0m \u001b[0;31m# Plot non-normalized confusion matrix\u001b[0m\u001b[0;34m\u001b[0m\u001b[0;34m\u001b[0m\u001b[0m\n\u001b[1;32m     47\u001b[0m \u001b[0mplt\u001b[0m\u001b[0;34m.\u001b[0m\u001b[0mfigure\u001b[0m\u001b[0;34m(\u001b[0m\u001b[0;34m)\u001b[0m\u001b[0;34m\u001b[0m\u001b[0m\n\u001b[0;32m---> 48\u001b[0;31m plot_confusion_matrix(cnf_matrix, classes=class_names,\n\u001b[0m\u001b[1;32m     49\u001b[0m                       title='Confusion matrix, without normalization')\n\u001b[1;32m     50\u001b[0m \u001b[0;34m\u001b[0m\u001b[0m\n",
      "\u001b[0;31mNameError\u001b[0m: name 'class_names' is not defined"
     ]
    },
    {
     "data": {
      "text/plain": [
       "<matplotlib.figure.Figure at 0x113824588>"
      ]
     },
     "metadata": {},
     "output_type": "display_data"
    }
   ],
   "source": [
    "import itertools\n",
    "import numpy as np\n",
    "import matplotlib.pyplot as plt\n",
    "\n",
    "from sklearn import svm, datasets\n",
    "from sklearn.model_selection import train_test_split\n",
    "from sklearn.metrics import confusion_matrix\n",
    "\n",
    "class_names = iris.target_names\n",
    "\n",
    "def plot_confusion_matrix(cm, classes,\n",
    "                          normalize=False,\n",
    "                          title='Confusion matrix',\n",
    "                          cmap=plt.cm.Blues):\n",
    "    \"\"\"\n",
    "    This function prints and plots the confusion matrix.\n",
    "    Normalization can be applied by setting `normalize=True`.\n",
    "    \"\"\"\n",
    "    if normalize:\n",
    "        cm = cm.astype('float') / cm.sum(axis=1)[:, np.newaxis]\n",
    "        print(\"Normalized confusion matrix\")\n",
    "    else:\n",
    "        print('Confusion matrix, without normalization')\n",
    "\n",
    "    print(cm)\n",
    "\n",
    "    plt.imshow(cm, interpolation='nearest', cmap=cmap)\n",
    "    plt.title(title)\n",
    "    plt.colorbar()\n",
    "    tick_marks = np.arange(len(classes))\n",
    "    plt.xticks(tick_marks, classes, rotation=45)\n",
    "    plt.yticks(tick_marks, classes)\n",
    "\n",
    "    fmt = '.2f' if normalize else 'd'\n",
    "    thresh = cm.max() / 2.\n",
    "    for i, j in itertools.product(range(cm.shape[0]), range(cm.shape[1])):\n",
    "        plt.text(j, i, format(cm[i, j], fmt),\n",
    "                 horizontalalignment=\"center\",\n",
    "                 color=\"white\" if cm[i, j] > thresh else \"black\")\n",
    "\n",
    "    plt.tight_layout()\n",
    "    plt.ylabel('True label')\n",
    "    plt.xlabel('Predicted label')\n",
    "\n",
    "# Compute confusion matrix\n",
    "cnf_matrix = confusion_matrix(y_test, y_pred)\n",
    "np.set_printoptions(precision=2)\n",
    "\n",
    "# Plot non-normalized confusion matrix\n",
    "plt.figure()\n",
    "plot_confusion_matrix(cnf_matrix, classes=class_names,\n",
    "                      title='Confusion matrix, without normalization')\n",
    "\n",
    "# Plot normalized confusion matrix\n",
    "plt.figure()\n",
    "plot_confusion_matrix(cnf_matrix, classes=class_names, normalize=True,\n",
    "                      title='Normalized confusion matrix')\n",
    "\n",
    "plt.show()"
   ]
  },
  {
   "cell_type": "code",
   "execution_count": null,
   "metadata": {},
   "outputs": [],
   "source": []
  },
  {
   "cell_type": "code",
   "execution_count": null,
   "metadata": {},
   "outputs": [],
   "source": []
  },
  {
   "cell_type": "code",
   "execution_count": null,
   "metadata": {},
   "outputs": [],
   "source": []
  }
 ],
 "metadata": {
  "kernelspec": {
   "display_name": "Python 3",
   "language": "python",
   "name": "python3"
  },
  "language_info": {
   "codemirror_mode": {
    "name": "ipython",
    "version": 3
   },
   "file_extension": ".py",
   "mimetype": "text/x-python",
   "name": "python",
   "nbconvert_exporter": "python",
   "pygments_lexer": "ipython3",
   "version": "3.5.2"
  }
 },
 "nbformat": 4,
 "nbformat_minor": 2
}
